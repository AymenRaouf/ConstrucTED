{
 "cells": [
  {
   "cell_type": "code",
   "execution_count": null,
   "metadata": {},
   "outputs": [],
   "source": [
    "from tool.Dataset import Dataset\n",
    "import os\n",
    "\n",
    "api_key = os.getenv('GOOGLE_API_KEY')\n",
    "mit_dataset = Dataset(\n",
    "    0,\n",
    "    0,\n",
    "    0\n",
    ")\n",
    "input_file = './Input/khan.csv'\n",
    "mit_dataset.create_series(input_file)\n",
    "mit_dataset.save(path='./Output/Khan')"
   ]
  },
  {
   "cell_type": "code",
   "execution_count": null,
   "metadata": {},
   "outputs": [],
   "source": [
    "import pandas as pd\n",
    "df = pd.read_csv('chapters.csv', sep='|')\n",
    "df.head(30)"
   ]
  }
 ],
 "metadata": {
  "kernelspec": {
   "display_name": "constructed",
   "language": "python",
   "name": "python3"
  },
  "language_info": {
   "codemirror_mode": {
    "name": "ipython",
    "version": 3
   },
   "file_extension": ".py",
   "mimetype": "text/x-python",
   "name": "python",
   "nbconvert_exporter": "python",
   "pygments_lexer": "ipython3",
   "version": "3.10.8"
  }
 },
 "nbformat": 4,
 "nbformat_minor": 2
}
